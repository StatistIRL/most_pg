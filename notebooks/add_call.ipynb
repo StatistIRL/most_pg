{
 "cells": [
  {
   "cell_type": "code",
   "execution_count": 1,
   "metadata": {},
   "outputs": [
    {
     "name": "stderr",
     "output_type": "stream",
     "text": [
      "INFO  [alembic.runtime.migration] Context impl PostgresqlImpl.\n",
      "INFO  [alembic.runtime.migration] Will assume transactional DDL.\n"
     ]
    }
   ],
   "source": [
    "from most_pg.services.database_manger import DatabaseManager\n",
    "from most_pg.settings import DatabaseSettings\n",
    "\n",
    "settings = DatabaseSettings(username=\"postgres\", password=\"postgres\", host=\"localhost\", port=5432, name=\"test\")\n",
    "\n",
    "database_manager = DatabaseManager(settings=settings)\n",
    "\n",
    "await database_manager.init_database()"
   ]
  },
  {
   "cell_type": "code",
   "execution_count": 2,
   "metadata": {},
   "outputs": [
    {
     "name": "stdout",
     "output_type": "stream",
     "text": [
      "13\n"
     ]
    }
   ],
   "source": [
    "from most_pg._types import Call\n",
    "from most_pg.repositories.call import CallRepository\n",
    "\n",
    "call = Call(\n",
    "    most_id=\"test_id\",\n",
    "    url=\"https://test-url.com\",\n",
    "    source=\"script\",\n",
    "    duration=None,\n",
    "    additional_information={\"manager\": \"test\"}\n",
    ")\n",
    "\n",
    "async with CallRepository(settings=settings) as call_repository:\n",
    "    call = await call_repository.add_call(call, flush=True)\n",
    "    print(call.id)"
   ]
  }
 ],
 "metadata": {
  "kernelspec": {
   "display_name": "Python 3",
   "language": "python",
   "name": "python3"
  },
  "language_info": {
   "codemirror_mode": {
    "name": "ipython",
    "version": 3
   },
   "file_extension": ".py",
   "mimetype": "text/x-python",
   "name": "python",
   "nbconvert_exporter": "python",
   "pygments_lexer": "ipython3",
   "version": "3.12.6"
  }
 },
 "nbformat": 4,
 "nbformat_minor": 2
}
